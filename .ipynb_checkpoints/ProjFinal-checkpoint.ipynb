{
 "cells": [
  {
   "cell_type": "markdown",
   "metadata": {},
   "source": [
    "# INCERTEZAS ASSOCIADAS ÀS ESTIMATIVAS DE PRECIPITAÇÃO POR RADAR METROLÓGICO"
   ]
  },
  {
   "cell_type": "markdown",
   "metadata": {},
   "source": [
    "* Cayo Lopes Bezerra Chalegre\n",
    "* Ewerton Amorim Oliveira\n",
    "* Geyza Santos Correia\n",
    "* Matheus Munt\n",
    "* Christopher Freire Souza\n",
    "* Carlos Ruberto Fragoso Jr."
   ]
  },
  {
   "cell_type": "markdown",
   "metadata": {},
   "source": [
    "## 1. Considerações Iniciais"
   ]
  },
  {
   "cell_type": "markdown",
   "metadata": {},
   "source": [
    "<div style=\"text-align: justify;\">\n",
    "A caracterização de fenômenos ambientais é essencial para o desenvolvimento de ações de cunho socioeconômico e ambiental. Para a gestão de recursos hídricos, o processo de modelagem de fenômenos meteorológicos (modelagem meteorológica) e hidrológicos (modelagem hidráulica e hidrológica), se torna uma importante ferramenta na viabilização de análises técnico-cientificas, embasando a tomada de decisão na gestão desses recursos.\n",
    "    A aplicação dessas ferramentas se evidencia desde a avaliação da ocorrência de patologias em plantações rurais (Megeto et al, 2014), a avaliação de áreas de risco de deslizamentos (Guimarães et al, 2017), modelagem de regimes hidrológicos (Miranda et al, 2017), previsão de vazões e enchentes em rios (Silva, 2006), (Silva, 2015), (Santos, 2013), dentre outras aplicações (Hsu,2003), (Solomon,1986) e (Cossich et al, 2015).\n",
    "<br />\n",
    "<br />\n",
    "    A partir da modelagem meteorológica é possível realizar estimativas de volume de precipitação, temperatura, umidade do ar, dentre outras variáveis, que possibilitam a representação de fenômenos atmosféricos, tais como formação de nuvens, chuvas, ventos fortes, variações de maré. Na modelagem hidrológica e hidráulica, é possível realizar a caracterização de fenômenos como vazões escoadas em leitos de rios, escoamentos superficiais, caracterização de processos de escoamento de sedimentos, dentre outros. \n",
    "<br />\n",
    "<br />\n",
    "    O entendimento de processos hidrológicos se baseia no conhecimento da interdependência de diversas variáveis chave que compõe o ciclo hidrológico, dentre elas podemos citar a precipitação. Atualmente diversos órgãos e entidades realizam o monitoramento de dados de precipitação, como o Centro Nacional de Monitoramento de Desastres Naturais - CEMADEN, a Agência Nacional de Águas – ANA, o Instituto Nacional de Meteorologia – INMET e a nível local, a Secretária de Meio Ambiente e Recursos Hídricos – Semarh. \n",
    "<br />\n",
    "<br />\n",
    "    Estas entidades aplicam diferentes metodologias para a realização deste monitoramento, cada uma com suas particularidades. A mais comumente aplicada é o uso de postos pluviométricos, onde o monitoramento é feito pontualmente no local de instalação do posto. Essa metodologia permite uma boa estimativa temporal, porém a baixa quantidade de postos e não homogeneidade na distribuição espacial se apresenta como fatores limitantes para utilização dos dados oriundos destes. Além disso, existe a operação manual de alguns equipamentos, que podem agregar erros e incertezas.\n",
    "<br />\n",
    "<br />\n",
    "    Outra alternativa metodológica é a estimativa de precipitação a partir de modelagem de dados oriundos de radares meteorológicos, que tem como atrativos a grande cobertura espacial, a alta resolução de espaço-tempo e disponibilidade em tempo real. Essa estimativa é realizada a partir da definição de uma relação entre a refletividade medida (Z), durante a varredura realizada pelo radar, e a taxa de precipitação (R), a está relação dá-se o nome de equação Z-R. Essas equações possuem parâmetros que devem ser ajustados a cada região de aplicação, sendo necessária a definição de equações Z-R específicas para cada localidade (Calheiros e Zawadzki,1986; Antonio,1995), além disso, existem diferentes equações Z-R, que são aplicadas de acordo com os dados obtidos nas varreduras do radar.\n",
    "<br />\n",
    "<br />\n",
    "    Quanto as incertezas associadas às estimativas por radar, os principais fatores estão relacionados à distúrbios do processo de medição (e.g. estabilidade de calibração, atenuação) e à deficiências no procedimentos de conversão dos valores de refletividade medidos pelo radar para precipitação no solo (e.g. adequação da distribuição do tamanho da gota (DTG), perfil vertical da refletividade). Isso provoca características tanto sistemáticas quanto aleatórias, bem como estruturas dependentes de incerteza inerentes ao observado campo de precipitação (Wilson e Brandes, 1979; Zawadzki, 1984).\n",
    "<br />\n",
    "<br />\n",
    "    Os radares produzem diferentes tipos de dados (produtos) que dependem da metodologia adotada para a relação Z-R e também as diferentes formas de varredura para a captação do dado de refletância. Logo, cada as estimativas realizadas por cada um desses produtos podem associar diferentes erros e incertezas. \n",
    "<br />\n",
    "<br />\n",
    "    Nesse contexto, este estudo busca realizar um estudo comparativo entre os dados obtidos de postos pluviométricos e os dados obtidos a partir de dois produtos de radar, o PPI (Plan Position Indicator) e o CAPPI (Constant Altitude Plan Position Indicator), os quais foram aplicados diferentes relações Z-R para área de estudo, e assim, propor o modelo meteorológico que melhor se ajusta aos dados observados nos postos para a área de estudo escolhida.\n",
    "</div>\n"
   ]
  },
  {
   "cell_type": "markdown",
   "metadata": {},
   "source": [
    "## 2. Objetivos"
   ]
  },
  {
   "cell_type": "markdown",
   "metadata": {},
   "source": [
    "### 2.1 Objetivo geral"
   ]
  },
  {
   "cell_type": "markdown",
   "metadata": {},
   "source": [
    "Este trabalha objetiva a realização da análise de incertezas nos dados pluviométricos estimados por diferentes modelos aplicados em radares meteorológicos."
   ]
  },
  {
   "cell_type": "markdown",
   "metadata": {},
   "source": [
    "### 2.2 Objetivos específicos"
   ]
  },
  {
   "cell_type": "markdown",
   "metadata": {},
   "source": [
    "* Desenvolver uma aplicação, na linguagem de programação Python, que viabilize a análise, tratamento e visualização de dados de precipitação;\n",
    "* Realização de estatísticas de detecção e quantificação da chuva estimada pelo radar, para as distintas fontes de dados (produtos CAPPI e PPI, empregando diferentes relações Z-R e uso de dupla polarização);\n",
    "* Caracterizar espacialmente e temporalmente o comportamento dos dados de precipitação oriunda dos postos pluviométricos.\n",
    "* Realizar a comparação entre os dados obitidos entre ambas as fontes.\n"
   ]
  },
  {
   "cell_type": "markdown",
   "metadata": {},
   "source": [
    "## 3. REVISÃO BIBLIOGRÁFICA"
   ]
  },
  {
   "cell_type": "markdown",
   "metadata": {},
   "source": [
    "### 3.1 Estimativa de precipitação por radar"
   ]
  },
  {
   "cell_type": "markdown",
   "metadata": {},
   "source": [
    "<div style=\"text-align: justify;\">\n",
    "A comparação dos dados estimados pelo radar com dados de pluviômetros é importante para entender as diferenças na estratégia de amostragem dos instrumentos e as suas limitações. O radar faz uma varredura em uma série de ângulos de elevação completando uma medição do volume no espaço ao redor do radar a cada 10 minutos. Isto implica que o radar irá retornar uma simples amostra de um campo de precipitação de um mesmo local neste intervalo de tempo, enquanto que o pluviômetro acumula os dados de precipitação continuamente em um único ponto.\n",
    "<br />\n",
    "<br />\n",
    "Na ocorrência de precipitações uniformes a diferença de amostragem entre ambas as metodologias pode não ser significativa, porém, na ocorrência de chuvas convectivas, onde a expectativa média de uma tempestade está entre 20 e 30 minutos, uma varredura a cada 10 minutos impõe uma série de dúvidas sobre a acurácia dos dados obtidos pelo radar (SEED et al., 1996).\n",
    "<br />\n",
    "<br />\n",
    " Além disso, outro fator que pode contribuir para as discrepâncias entre as metodologias é a existência de um retardamento entre a medida efetuada pelo radar e a realizada pelo pluviômetro (ZAWADZKI, 1975). Para uma mudança rápida na intensidade da precipitação esse retardamento introduz uma discrepância maior entre as duas medidas. Essa defasagem pode ser ainda maior conforme a distância entre o pluviômetro e o radar, pois as diferenças nas observações obtidas pelos radares e pluviômetros são também dependentes da distância radar-pluviômetro (ANTÔNIO, 1984b).\n",
    "<br />\n",
    "<br />\n",
    "    Outra parte significativa da dispersão observada na relação entre o radar e o pluviômetro pode ser atribuída ao fato de que a medida de um simples pluviômetro pode não ser representativa da área onde ocorreu a precipitação (SEED et al., 1996). Além disso, as diferenças entre dados de radar e pluviômetros são também dependentes da distância radar-pluviômetro (ANTÔNIO, 1984b).\n",
    "<br />\n",
    "<br />\n",
    "    As medidas do radar e do pluviômetro se aproximam quando a integração dos dados é feita considerando um período maior de precipitação. Comparações instantâneas mostram grande discrepância devido aos problemas na conversão de refletividade para taxas de precipitação e também devido às diferentes características dos instrumentos. A relação entre a refletividade (Z) e a precipitação (R), quando a precipitação é do tipo constante e uniforme, pode ser bem-sucedida. Quando ocorrem chuvas altamente variáveis no tempo e no espaço, a discrepância devido ao atraso entre as medidas e a suavização nas observações realizadas pelo radar tornam praticamente impossível qualquer melhoria na qualidade da relação Z-R (ZAWADZKI, 1975). \n",
    "<br />\n",
    "<br />\n",
    "    Segundo ANTÔNIO (1998), a integração dos dados de radar sobre áreas mais extensas com um maior intervalo de tempo, normalmente minimiza os efeitos discrepantes dos valores obtidos pelo radar quando comparados às medidas obtidas nos pluviômetros. Nesse trabalho, o autor utilizou dados de refletividade de imagens tipo CAPPI do radar meteorológico do IPMet/UNESP e pluviógrafos localizados dentro da área de cobertura do radar, além de dois disdrômetros, numa tentativa de ajustar medidas de chuva com o radar em tempo real.\n",
    "<br />\n",
    "<br />\n",
    "    ANTÔNIO (1998) corrobora as afirmações de ZAWADZKI (1975) de que as tentativas de se utilizarem séries curtas de dados de precipitação medidas com pluviômetros e estimadas por radar têm levado a resultados pouco satisfatórios, quer no estabelecimento de relações Z-R específicas para cada sítio, quer nas relações Z-R de cada período, como foi demonstrado em seu trabalho utilizando oito estações pluviométricas situadas na região central do Estado de São Paulo.\n",
    "    \n",
    "</div>\n",
    "\n"
   ]
  },
  {
   "cell_type": "markdown",
   "metadata": {},
   "source": [
    "#### 3.2 Relação Z-R"
   ]
  },
  {
   "cell_type": "markdown",
   "metadata": {},
   "source": [
    "O radar mede a energia retroespalhada do volume de gota, expresso por seu fator de refletividade (Z) em um determinado volume de ar. O valor obtido de Z pode ser transformado em taxa de precipitação em mm/h (R), utilizando a equação geralmente referida como relação Z-R, dada por:\n",
    "\n",
    "Equação 1: $$ Z=aR^b$$ \n",
    "   \n",
    "   Onde: \n",
    "    **a** e **b**: constantes numéricas;\n",
    "    **Z**: fator de refletividade do radar (mm6/m3);\n",
    "    **R**: taxa de precipitação (mm/h)."
   ]
  },
  {
   "cell_type": "markdown",
   "metadata": {},
   "source": [
    "<div style=\"text-align: justify;\">\n",
    "O sistema de radar pode melhorar a estimativa da precipitação usando diferentes relações Z-R calibradas com dados observados. Além disso, a seleção de eventos com diferentes condições sinóticas  pode fornecer um ganho nas estimativas de precipitação pelo radar (Dhiram, et al., 2016).\n",
    "A distribuição do tamanho de gota de chuva (DTG) varia de local para local, entre os diferentes sistemas meteorológicos e com a sazonalidade. Devido a esses fatores, no estado de Alagoas, por exemplo, é recomendada a determinação de relações Z-R específicas para cada sistema meteorológico que o atinge (Moraes, 2011).\n",
    "<br />\n",
    "<br />\n",
    "A relação Z-R geral para a Costa Leste do Nordeste Brasileiro (NEB) é Z = 176,5 R1,29, com coeficiente de correlação de 0,83. Também foram produzidas relações para precipitações estratiforme e convectiva: Z = 167,8 R1,26 [r2=0,70], Z = 65,46 R1,69 [r2=0,84] respectivamente (Tenório et. al., 2010).\n",
    "</div>\n"
   ]
  },
  {
   "cell_type": "markdown",
   "metadata": {},
   "source": [
    "#### 3.3 Principais produtos do radar"
   ]
  },
  {
   "cell_type": "markdown",
   "metadata": {},
   "source": [
    "<div style=\"text-align: justify;\">\n",
    "Os principais produtos oriundos dos radares são imagens gráficas no formato 2D obtidas a partir de uma determinada varredura, onde cada uma destas imagens podem representar diferentes tipos de dados (produtos), destacando-se:\n",
    "<br />\n",
    "<br />\n",
    "a) Produtos padrão:\n",
    "<br />\n",
    "<br />\n",
    "PPI (Plan Position Indicator); CAPPI (Constant Altitude Plan Position Indicator); RHI (Range Height Indicator); MAXCAPPI (Maximum Constant Altitude Plan Position Indicator); MPPI (Multiple Plan Position Indicator); EHT (Echo Height); EB (Echo Base); VAD (Velocity Azimuth Display); VVP (Volume Velocity Processing).\n",
    "<br />\n",
    "<br />\n",
    "b) Produtos hidrológicos:\n",
    "<br />\n",
    "<br />\n",
    "DPSRI (Dual Polarization Surface Rainfall Intensity); PAC (Precipitation Accumulation); PRT (Point Rainfall Total); RGRT (Raingauge – Radar Total); RIH (Rainfall Intensity Histogram); RSA (River Subcatchment Accumulation); SRI (Surface Rainfall Intensity); VIL (Vertical Integrated Liquid).\n",
    "<br />\n",
    "<br />\n",
    "    Cada um destes produtos é obtido de acordo à diferentes condições e metodologias de varredura. O estudo em questão foi focado na análise de dois produtos padrão: PPI (Plan Position Indicator); CAPPI (Constant Altitude Plan Position Indicator). Cada um deles explanados nos tópicos as seguir.\n",
    "</div>"
   ]
  },
  {
   "cell_type": "markdown",
   "metadata": {},
   "source": [
    "##### 3.3.1 Indicador de Posição do Plano (PPI)"
   ]
  },
  {
   "cell_type": "markdown",
   "metadata": {},
   "source": [
    "<div style=\"text-align: justify;\">\n",
    "Este produto fornece a projeção num plano horizontal pré-definido dos dados de refletividade, taxa de precipitação, velocidade radial média ou largura espectral, obtido através de uma varredura em azimute em coordenadas polares, para um ângulo de elevação determinado.\n",
    "</div>\n"
   ]
  },
  {
   "cell_type": "markdown",
   "metadata": {},
   "source": [
    "##### 3.3.2 Indicador de posição do plano de altitude constante (CAPPI)"
   ]
  },
  {
   "cell_type": "markdown",
   "metadata": {},
   "source": [
    "<div style=\"text-align: justify;\">\n",
    "    Este produto fornece a projeção em um plano horizontal constante pré-definido, dos dados de refletividade, taxa de precipitação, velocidade radial média ou largura espectral, obtidos através de uma varredura volumétrica.\n",
    "    Para a composição de um CAPPI (Figura 1), programa-se a antena do radar para dar uma volta completa (360°) e mudar sua elevação em relação ao horizonte. Com isso consegue-se \"varrer\" completamente a atmosfera, do solo até o topo das nuvens. De cada elevação é extraído um anel de informações cuja altura média corresponde a um valor pré-estabelecido.\n",
    "<table class=\"image\" >\n",
    "<caption align=\"bottom\">Figura 1 – Composição de um CAPPI.</caption>\n",
    "<tr><td><img src=\"FIG1-CAPPI.png\" alt=\"funcionalidades\" width=600/>\n",
    "</td></tr>\n",
    "</table>\n",
    "</div>"
   ]
  },
  {
   "cell_type": "markdown",
   "metadata": {},
   "source": [
    "##### 3.3.2.1 Dupla polarização"
   ]
  },
  {
   "cell_type": "markdown",
   "metadata": {},
   "source": [
    "<div style=\"text-align: justify;\">\n",
    "Radares convencionais (polarização única) utilizam apenas o fator refletividade Z para estimativas de precipitação enquanto que os polarimétricos são capazes de medir refletividade diferencial Zdr, diferencial de fase específica Kdp e coeficiente de correlação entre dois pulsos polarizados ortogonalmente φDP. A utilização de parâmetros adicionais à refletividade promove uma melhoria significativa na qualidade das informações coletadas em um radar. É possível a distinção entre ecos de precipitação e ecos provenientes de outros alvos (terreno, insetos, pássaros, neve, granizo, etc.), minimizando, por exemplo, as incertezas do espectro de gotas nas estimativas de precipitação (Giangrande; Ryzhkov, 2008).\n",
    "<br />\n",
    "<br />\n",
    "    A metodologia consiste em aplicar as variáveis polarimétricas (Z – refletividade horizontal [dBZ], Zdr – refletividade diferencial [dB] e Kdp - diferencial do deslocamento de fase [°/km]) conforme os limiares de taxa de precipitação (Equações 2, 3, 4, 5 e 6) para a obtenção da precipitação instantânea segundo a proposta por Ryzhkov et al.  (2005), metodologia esta que está embutida no Software Rainbow® . A cada varredura (10 minutos) é feita essa estimativa e os resultados são acumulados em períodos de 24-h.  \n",
    "\n",
    "<br />\n",
    "<br />\n",
    "    Equação 2:$$ R = \\frac{R(Z)}{0.4+0.5|Zdr-1|^{1.3}}\n",
    "    $$\n",
    "<br />\n",
    "<br />\n",
    "Para: R(Z) < 6 mm/h\t\n",
    "<br />\n",
    "<br />\n",
    " \n",
    "Equação 3: $$ R = \\frac{R(K_dp)}{0.4+3.5|Zdr-1|^{1.7}}\n",
    "$$\n",
    "<br />\n",
    "<br />\n",
    " \n",
    "Para: 6 < R(Z) < 50 mm/h\t\n",
    "<br />\n",
    "<br /> \n",
    "Equação 4: $$ R = R(K_dp)\n",
    "$$\n",
    "<br />\n",
    "<br /> \n",
    "\n",
    "Para: R(Z) > 50 mm/h\t\n",
    "\n",
    "<br />\n",
    "<br />\n",
    "Equação 5:$$ R = \\frac{1}{a^{1/b}}{Z}^{1/b}\n",
    "$$\n",
    "<br />\n",
    "<br />\n",
    "\n",
    "Onde: R(Z) é a relação Z-R. Em que a e b são constantes, Z corresponde a refletividade e R corresponde a precipitação. \n",
    "<br />\n",
    "<br />\n",
    "Equação 6: $$ R(K_dp) = 44|K_dp|^{0.822}\n",
    "$$\n",
    "<br />\n",
    "<br />\n",
    "Para KDP > 0\t\n",
    "<br />\n",
    "<br />\n",
    " Estimativas de precipitação baseadas em variáveis polarimétricas tem sido foco de diversos estudos nas últimas três décadas. Diferentes relações para taxas de precipitação (R) foram sugeridas por diversos autores, as mais comuns utilizam combinações do tipo R(Z, Zdr), R(Kdp) ou R(Kdp, Zdr) e têm demonstrado vantagens quando comparadas a relações baseadas somente em refletividade Z (Wang; Chandrasekar, 2010).\n",
    "    </div>"
   ]
  },
  {
   "cell_type": "markdown",
   "metadata": {},
   "source": [
    "### 4.\tMATERIAIS E MÉTODOS"
   ]
  },
  {
   "cell_type": "markdown",
   "metadata": {},
   "source": [
    "<div style=\"text-align: justify;\">\n",
    "A metodologia aplicada neste estudo será dividida em três etapas: a) desenvolvimento de uma ferramenta em Python para processamento dos dados e análises; b) Caracterização dos dados pluviométricos; c) Análise da capacidade de detecção do radar nos eventos escolhidos; d) Comparação dos dados oriundos dos pluviômetros e dos dados do radar e análise das incertezas.\n",
    "</div>"
   ]
  },
  {
   "cell_type": "markdown",
   "metadata": {},
   "source": [
    "#### 4.1 Aplicação na linguagem de programação Python "
   ]
  },
  {
   "cell_type": "markdown",
   "metadata": {},
   "source": []
  },
  {
   "cell_type": "markdown",
   "metadata": {},
   "source": [
    "#### 4.2 Dados de precipitação"
   ]
  },
  {
   "cell_type": "markdown",
   "metadata": {},
   "source": [
    "Para realização das análises foram escolhidos cinco evento, caracterizados pela elevada precipitação. Estes eventos são apresentados a seguir na Tabela 1.\n",
    "<br />\n",
    "<br />\n",
    "\n",
    "<table border=\"1\" width=\"30%\">\n",
    "   <caption align=\"top\"><b>Tabela 1 – Eventos hidrológicos de interesse.</caption>\n",
    "  <tr>\n",
    "    <td><b>Evento<td>\n",
    "     <td><b>Início</td>\n",
    "        <td><b>Fim</td></b>\n",
    "  </tr>\n",
    "  <tr>\n",
    "    <td><b>1<td>\n",
    "     <td>12/05/201</td>\n",
    "    <td>19/05/2014</td>\n",
    "  </tr>\n",
    "  <tr>\n",
    "    <td><b>2<td>\n",
    "     <td>08/09/2014</td>\n",
    "    <td>15/09/2014</td>\n",
    "  </tr>  <tr>\n",
    "    <td><b>3<td>\n",
    "     <td>04/10/2014</td>\n",
    "    <td>12/10/2014</td>\n",
    "  </tr>  <tr>\n",
    "    <td><b>4<td>\n",
    "     <td>30/06/2015</td>\n",
    "    <td>08/07/2015</td>\n",
    "  </tr>  <tr>\n",
    "    <td><b>5<td>\n",
    "     <td>18/05/2017\t</td>\n",
    "    <td>30/05/2017</td>\n",
    "  </tr>"
   ]
  },
  {
   "cell_type": "markdown",
   "metadata": {},
   "source": [
    "#### 4.3 Dados Pluviométricos"
   ]
  },
  {
   "cell_type": "markdown",
   "metadata": {},
   "source": [
    "<div style=\"text-align: justify;\">\n",
    "Os dados pluviométricos foram obtidos a partir do banco de dados disponibilizado pela Secretaria de Estado de Meio Ambiente e Recursos Hídricos de Alagoas (SEMARH) e pela Agência Nacional de Águas (ANA). \n",
    "</div>"
   ]
  },
  {
   "cell_type": "markdown",
   "metadata": {},
   "source": [
    "#### 4.1.2\tDados Radar"
   ]
  },
  {
   "cell_type": "markdown",
   "metadata": {},
   "source": [
    "<div style=\"text-align: justify;\">\n",
    "Neste trabalho foram utilizados os dados do radar meteorológico oriundos dos produtos CAPPI e PPI, empregando três relações Z-R desenvolvidas para Alagoas, e a relação de Marshall-Palmer. A opção por estes produtos se deu devido as diferentes características de cada um. O produto PPI apresenta os dados da forma mais próxima da qual o radar coleta os dados, isto é, em plano inclinado formando um ângulo com o horizonte, tendo maior aproximação com os valores dos postos pluviométricos, por esse plano ser mais próximo ao solo. No entanto, no produto CAPPI há metodologias de interpolação que suprem as falhas nos dados obtidos pelo PPI, principalmente nos dados mais afastados do radar.\n",
    "<br />\n",
    "<br />\n",
    "\n",
    "Os dados de radar utilizados foram obtidos junto ao Centro Nacional de Monitoramento e Alertas de Desastres Naturais (Cemaden), do radar meteorológico instalado em Maceió/AL, localizado em 35.77°W e 9.55°S, banda S, doppler e de dupla polarização. Os pontos da grade do radar têm resolução espacial de 0,5km, cobrindo a área da Bacia Hidrográfica do rio Mundaú, onde cada ponto da grade corresponderá a uma estação virtual.\n",
    "<br />\n",
    "<br />\n",
    "Além dos dados de precipitação empregando apenas as diferentes relações Z-R, que utilizam somente a refletividade horizontal (Zh), também foi empregado a dupla polarização, o DPSRI (Dual Polarization Surface Rainfall Intensity) (Tabela 2). Para área de estudo, o dados foram obtidos utilizando as relações Z-R desenvolvidas para Alagoas, segundo Tenório (2010) e a equação de Marshall-Palmer (1948) desenvolvida para os EUA. \n",
    "\n",
    "<table border=\"1\" width=\"75%\">\n",
    "   <caption align=\"top\"><b>Tabela 2 – Descrição dos dados.</caption>\n",
    "  <tr>\n",
    "    <td><td colspan=\"2\"align='justify' ><b>Precipitação acumulada de 1 hora (usando o algoritmo do Rainbow) <td>\n",
    "  </tr>\n",
    "  <tr>\n",
    "    <td><b>Produto</td> \n",
    "     <td><b>Equação Z-R</td>\n",
    "    <td><b>Variáveis</td>\n",
    "    <td><b>Código</td>\n",
    "  </tr>   \n",
    "  <tr>\n",
    "    <td rowspan=\"5\"><b>CAPPI</td>\n",
    "     <td>Geral de Alagoas</td>\n",
    "    <td>Refletividade horizontal - Zh (dBZ)</td>\n",
    "    <td>P1G</td>\n",
    "  </tr>    \n",
    "  <tr>\n",
    "    <td rowspan=\"3\"><b>Geral de Alagoas - DPSRI (Dual Polarization Surface Rainfall Intensity)</td>\n",
    "     <td>Refletividade horizontal - Zh (dBZ)</td>\n",
    "    <td rowspan=\"3\">P1R</td>\n",
    "  </tr>  \n",
    "  \n",
    "  <tr>\n",
    "  \n",
    "     <td>Refletividade diferencial - Zdr (dB)</td>\n",
    "\n",
    "  </tr>  \n",
    "  \n",
    "  <tr>\n",
    "\n",
    "     <td>Diferencial de deslocamento de fase - Kdp (°/km)\t</td>\n",
    "\n",
    "  </tr>\n",
    "  \n",
    "  <tr>\n",
    "     <td>Convectiva e Estratiforme de Alagoas</td>\n",
    "    <td>Refletividade horizontal - Zh (dBZ)</td>\n",
    "    <td>P1T</td>\n",
    "  </tr>\n",
    "  \n",
    "  <tr>\n",
    "    <td><b><td colspan=\"2\" align=\"center\"><b>Precipitação acumulada de 10 minutos<td>\n",
    "  </tr>\n",
    "  \n",
    "  <tr>\n",
    "    <td><b>Produto</td> \n",
    "     <td><b>Equação Z-R</td>\n",
    "    <td><b>Variáveis</td>\n",
    "    <td><b>Código</td>\n",
    "  </tr>\n",
    "  \n",
    "  <tr>\n",
    "    <td rowspan=\"2\"><b>PPI</td>\n",
    "     <td>Geral de Alagoas</td>\n",
    "    <td>Refletividade horizontal - Zh (dBZ)</td>\n",
    "    <td>PGE</td>\n",
    "  </tr>  \n",
    "  <tr>\n",
    "     <td>Marshall-Palmer</td>\n",
    "    <td>Refletividade horizontal - Zh (dBZ)</td>\n",
    "    <td>PMP</td>\n",
    "  </tr>  \n",
    "\n",
    "</table>\n",
    "\n",
    "</div>"
   ]
  },
  {
   "cell_type": "markdown",
   "metadata": {},
   "source": [
    "#### 4.3\tEstatísticas de ocorrência de chuva"
   ]
  },
  {
   "cell_type": "markdown",
   "metadata": {},
   "source": [
    "<div style=\"text-align: justify;\">\n",
    "As estatísticas de ocorrência de chuva estão associadas à ocorrência ou não de um evento de chuva, e para isso é estabelecido um limiar para registros de chuva iguais ou superiores a esse valor (e.g., igual a 0,01 mm hora−1). Todas as estatísticas referentes nesta seção são baseadas em uma tabela de contingência (ver Tabela 3), a qual contém a frequência dos possíveis eventos para as quatro combinações de concordância entre os dados estimados por radar e observações de superfície (pluviômetros). Os possíveis eventos são classificados de acordo com as possíveis combinações para um determinado limiar. Essas combinações encontram-se descritas abaixo:\n",
    "<br />\n",
    "\n",
    "<body>\n",
    "<ul>\n",
    "<li>Correto positivo (a): quando o radar e o pluviômetro registram a ocorrência de chuva na bacia igual ou maior do que o limiar determinado;</li>\n",
    "<li>Falso alarme (b): quando o radar registra a ocorrência de chuva na bacia igual ou maior do que o limiar determinado, em discordância com o pluviômetro;</li>\n",
    "<li>Falha (c): quando o radar não registra a ocorrência de chuva na bacia igual ou maior do que o limiar determinado, em discordância com o pluviômetro;</li>\n",
    "<li>Correto negativo (d): quando o radar e o pluviômetro não registram a ocorrência de chuva na bacia igual ou maior do que o limiar determinado.</li>\n",
    "</ul>\n",
    "</body>\n",
    "<table class=\"image\" >\n",
    "<caption align=\"bottom\">Tabela 3 - Tabela de contingência utilizada para o cálculo das estatísticas de ocorrência.</caption>\n",
    "<tr><td><img src=\"FIG22-TAB.png\" alt=\"funcionalidades\" width=300/>\n",
    "</td></tr>\n",
    "</table>\n",
    "</div>\n"
   ]
  },
  {
   "cell_type": "markdown",
   "metadata": {},
   "source": [
    "#### 4.3.1\tProbabilidade de detecção (POD)"
   ]
  },
  {
   "cell_type": "markdown",
   "metadata": {},
   "source": [
    "<div style=\"text-align: justify;\">\n",
    "A taxa de acerto ou probabilidade de detecção (POD, do inglês probability of detection) representa a fração de dados observados que foram corretamente identificados pela estimativa de chuva por radar, sendo representado pela relação abaixo:\n",
    "<br />\n",
    "<br />\n",
    "Equação 7:$$ POD = \\frac{a}{a+b}\n",
    "$$\n",
    "<br />\n",
    "<br />\n",
    "Com isso, o valor de POD varia entre 0 e 1, e para uma perfeita detecção o valor de POD deve ser igual a 1.\n",
    "</div>"
   ]
  },
  {
   "cell_type": "markdown",
   "metadata": {},
   "source": [
    "#### 4.3.2 Razão de falso alarme (FAR)"
   ]
  },
  {
   "cell_type": "markdown",
   "metadata": {},
   "source": [
    "<div style=\"text-align: justify;\">\n",
    "A razão de falso alarme (FAR, do inglês false alarm ratio) representa a fração de dados observados sem chuva que não foram corretamente identificados pela estimativa de chuva por radar, ou seja, o radar detecta chuva, porém o dado observado em superfície não. Sendo representado pela relação abaixo:\n",
    "<br />\n",
    "<br />\n",
    "Equação 8:$$ FAR = \\frac{b}{a+b}\n",
    "$$\n",
    "<br />\n",
    "<br />\n",
    "Com isso, o valor de FAR varia entre 0 e 1, obtendo-se valor igual à 0 para uma perfeita estimativa.\n",
    "</div>"
   ]
  },
  {
   "cell_type": "markdown",
   "metadata": {},
   "source": [
    "#### 4.3.3 Viés de frequência (BIASf)"
   ]
  },
  {
   "cell_type": "markdown",
   "metadata": {},
   "source": [
    "<div style=\"text-align: justify;\">\n",
    "O escore de viés ou viés da frequência (BIASf, do inglês frequency bias) mede a relação entre as frequências de valores estimados para as frequências de valores observados. Com isso, indica a subestimativa ou superestimativa da quantidade de eventos chuvosos que são corretamente identificados pela estimativa por radar. Sendo representado pela relação abaixo:\n",
    "<br />\n",
    "<br />\n",
    "Equação 9:$$ bIAS_f = \\frac{a+b}{a+c}\n",
    "$$\n",
    "<br />\n",
    "<br />\n",
    "Para uma perfeita detecção desses eventos chuvosos, o valor de BIASf é igual a 1. Se o radar detecta um número menor de eventos chuvosos, então o valor do BIASf é menor do que 1, indicando a ocorrência de subestimativa. Da mesma maneira, se o radar detecta um número maior de eventos chuvosos, o valor do BIASf é maior do que 1, indicando a ocorrência de superestimativa.\n",
    "</div>"
   ]
  },
  {
   "cell_type": "markdown",
   "metadata": {},
   "source": [
    "#### 4.3.4 Escore de destreza de Gilbert (ETS)"
   ]
  },
  {
   "cell_type": "markdown",
   "metadata": {},
   "source": [
    "<div style=\"text-align: justify;\">\n",
    "O escore de destreza de Gilbert ou escore de destreza equitativa (ETS, do inglês equitable threat score) mede a fração de eventos observados que foram corretamente estimados, ajustados com relação a acertos associados com possibilidades randômicas. Isso ocorre por meio da consideração de um termo que penaliza os acertos positivos (a) com relação à ocorrência de falsos alarmes (b) e falhas (c), sendo representado pela relação abaixo:\n",
    "<br />\n",
    "<br />\n",
    "Equação 10:$$ ETS = \\frac{a-\\frac{(a+c)(a+b)}{n}}{a-{\\frac{(a+c)(a+b)}{n}}+b+c}\n",
    "$$\n",
    "<br />\n",
    "<br />\n",
    "Com isso, o escore perfeito para ETS é obtido quando o mesmo é igual à 1. Já para o pior escore, o mesmo ocorre quando menor ou igual a 0.\n",
    "</div>"
   ]
  },
  {
   "cell_type": "markdown",
   "metadata": {},
   "source": [
    "#### 4.3.5\tRazão de acurácia (AR)"
   ]
  },
  {
   "cell_type": "markdown",
   "metadata": {},
   "source": [
    "<div style=\"text-align: justify;\">\n",
    "A fração correta ou razão de acurácia (AR, do inglês accuracy ratio) mede a fração de eventos estimados corretamente, independentemente se foram corretos positivos (a) ou negativos (d), com relação ao total de eventos (n), sendo representado pela relação abaixo:\n",
    "<br />\n",
    "<br />\n",
    "Equação 11:$$ AR = \\frac{a+d}{n}\n",
    "$$\n",
    "<br />\n",
    "Com isso, a razão varia entre 0 e 1, com perfeita detecção igual a 1\n",
    "</div>"
   ]
  },
  {
   "cell_type": "markdown",
   "metadata": {},
   "source": [
    "#### 4.4\tEstatísticas quantitativas de chuva"
   ]
  },
  {
   "cell_type": "markdown",
   "metadata": {},
   "source": [
    "As estatísticas quantitativas de chuva estão associadas às diferenças nas intensidades dos dados obtidos pelo radar e pelos pluviômetros."
   ]
  },
  {
   "cell_type": "markdown",
   "metadata": {},
   "source": [
    "#### 4.3.1\tViés"
   ]
  },
  {
   "cell_type": "markdown",
   "metadata": {},
   "source": [
    "<div style=\"text-align: justify;\">\n",
    "O erro médio ou viés aditivo (BIAS, do inglês additive bias) representa o erro médio das taxas de chuva identificadas por radar com relação ao dado de superfície (pluviômetro). Sendo representado pela relação abaixo:\n",
    "<br />\n",
    "<br />\n",
    "Equação 12:$$ BIAS =\\frac{1}{n} \\sum_{i=1}^N{(S_i-O_i)}\n",
    "$$\n",
    "<br />\n",
    "onde Si e Oi representam os i-ésimos pares de estimativa de precipitação e observação por pluviômetro, respectivamente. Essa medida varia de −∞ a +∞, sendo que para uma perfeita estimativa obtém-se valor igual a 0.\n",
    "</div>"
   ]
  },
  {
   "cell_type": "markdown",
   "metadata": {},
   "source": [
    "#### 4.3.2\tCoeficiente de correlação"
   ]
  },
  {
   "cell_type": "markdown",
   "metadata": {},
   "source": [
    "<div style=\"text-align: justify;\">\n",
    "O coeficiente de correlação (r), representa a associação linear entre as estimativas de chuva por radar e pluviômetros. O alcance varia de -1 a 1, com perfeita associação igual a unidade.\n",
    "<br />\n",
    "<br />\n",
    "Equação 12:$$ r =\\frac{\\sum_{i=1}^N{(S_i-S_m)(O_i-O_m)}}{\\sqrt{\\sum_{i=1}^N{(S_i-S_m)^2}}\\sqrt{\\sum_{i=1}^N{(O_i-O_m)^2}}}\n",
    "$$\n",
    "<br />\n",
    "\n",
    "</div>"
   ]
  },
  {
   "cell_type": "code",
   "execution_count": null,
   "metadata": {},
   "outputs": [],
   "source": []
  },
  {
   "cell_type": "markdown",
   "metadata": {},
   "source": [
    "### 6.\tREFERÊNCIAS"
   ]
  },
  {
   "cell_type": "markdown",
   "metadata": {},
   "source": [
    "<div style=\"text-align: justify;\">\n",
    "Antonio, M. A. Técnica de ajuste em tempo real de medidas de chuva com radar. Tese (Doutorado) – Universidade Estadual Paulista, Faculdade de Ciências Agronômicas – UNESP, Botucatu, SP, 1998.\n",
    "<br />\n",
    "<br />\n",
    "Antonio, M. A. Z-R relationship range dependence. In: International Symposium on Hydrological Application of Weather Radars, 1995, São Paulo. Anais...São Paulo: ABRH, 1995, p. 45-51.\n",
    "<br />\n",
    "<br />\n",
    "Antonio, M. De A. Considerações sobre integração de medidas de chuva por radar. São Carlos, 111p. Dissertação (Mestrado em Hidráulica e Saneamento) – Escola de Engenharia de São Carlos, Universidade de São Paulo, 1984b.\n",
    "<br />\n",
    "<br />\n",
    "Brandes, E.A., Wilson, J.W., 1979. Radar measurement of rainfall — summary. Bulletin of the American Meteorological Society 60, 1048–1058.\n",
    "<br />\n",
    "<br />\n",
    "Calheiros, R. V.; Zawadzki, I.I. Reflectivity Rain Rate Relationships for Radar Hydrology in Brazil. Journal of Climate and Applied Meteorology, v. 20, n.1, p. 118-132, 1986.\n",
    "<br />\n",
    "<br />\n",
    "Cossich, W.; Cataldi, M.; Rotunno Filho, O. C.; Performance Assessment of Generation of Scenarios for Reservoir Inflows Using Ensemble Rainfall Forecasts. Ciência e Natura, v. 37, p. 55-62; 2015.\n",
    "<br />\n",
    "<br />\n",
    "Giangrande, S. E. ; A. V. Ryzhkov. (2008). Estimation of rainfall based on the results of polarimetric echo classification. Journal of Applied Meteorology and Climatology, 47, pp. 2445–2462.\n",
    "<br />\n",
    "<br />\n",
    "Guimarães, R.F.; Machado, W.P.; de Carvalho, O.A., Júnior; Montgomery, D.R.; Gomes, R.A.T.; Greenberg, H.M.; Cataldi, M.; Mendonça, P.C. Determination of Areas Susceptible to Landsliding Using Spatial Patterns of Rainfall from Tropical Rainfall Measuring Mission Data. Rio de Janeiro, Brasil. ISPRS Int. J. Geo-Inf., 6, 289; 2017. \n",
    "<br />\n",
    "<br />\n",
    "Dias, T. L.; Cataldi, M.; Ferreira, V. H.; Aplicação de técnicas de redes neurais e modelagem atmosférica para elaboração de previsões de vazão na Bacia do Rio Grande (MG). Engenharia Sanitária e Ambiental, Rio de Janeiro, v.22, n.1, p.169-178; 2017.\n",
    "<br />\n",
    "<br />\n",
    "Dirhan, I. L.; Kang, M. Y.; You, C. H.; The possibility of rainfall estimation using R(Z,ZDR,KDP,AH): A case study of heavy rainfall on 25 August 2014 in Korea. Hydrology and Earth System Sciences. 2016.\n",
    "<br />\n",
    "<br />\n",
    "Hsu, M. Fu; J. & Liu, W. Flood routing with real-time stage correction method for flash flood forecasting in the Tanshui River. Journal of Hydrology, v. 277, p 267-280; 2003.\n",
    "<br />\n",
    "<br />\n",
    "Mello, C. R. De; Lima, J. M.; Silva, A. M.; Mello, J. M.; Silva, M. S. Krigagem e inverso do quadrado da distância para interpolação dos parâmetros da equação de chuvas intensas. Revista Brasileira de Ciência do Solo, v.27, n.5, p.925-933; 2003.\n",
    "<br />\n",
    "<br />\n",
    "Megeto, G. A. S.; Oliveira, S. R. De M.; Del Ponte, E. M.; Meira, C. A. A.; Árvore de Decisão para Classificação de Ocorrências de Ferrugem Asiática em Lavouras Comerciais com Base em Variáveis Meteorológicas. Engenharia Agrícola, Jaboticabal, v.34, n.3, p.590-599; 2014.\n",
    "<br />\n",
    "<br />\n",
    "Miranda, N. M.; Cataldi, M.; Da Silva; F. das N. R.; Simulação do Regime Hidrológico da Cabeceira do Rio São Francisco a Partir da Utilização dos Modelos SMAP e RegCM; Anuário do Instituto de Geociências da Universidade Federal do Rio de Janeiro - UFRJ, v. 40, p.328-339; 2017.\n",
    "<br />\n",
    "<br />\n",
    "Moraes, M. C. S. Parâmetros de radar e distribuição do tamanho de gotas de chuvas em sistema de precipitação continental ou marinha no leste do Nordeste do Brasil: sua influência na estimativa de vazão na Bacia do rio Mundaú. Tese de doutorado - Programa de Pós-Graduação em Meteorologia da Universidade Federal de Campina Grande.\n",
    "<br />\n",
    "<br />\n",
    "Ryzhkov, A. V.; Giangrande, S. E.; Schuur, T. J. Rainfall estimation with a polarimetric prototype of WSR-88D. Journal Applied Meteorology, v. 44, p. 502-515, 2005. http://dx.doi.org/10.1175/JAM2213.1\n",
    "<br />\n",
    "<br />\n",
    "Rodrigues, M. T. R.; Rodrigues, B. T.; Monte, B. E. O.; APRECIAÇÃO DE MÉTODOS DE INTERPOLAÇÃO EM DADOS PLUVIOMÉTRICOS E SUA DISTRIBUIÇÃO ESPACIAL.  Revista Brasileira de Engenharia de Biossistemas. v.6., n.1, p.1-7; 2012.\n",
    "<br />\n",
    "<br />\n",
    "Santos, A. K. Modelagem do acompanhamento e controle de cheias em bacias hidrográficas de grande variação de altitude. Estudo de caso: bacia do rio Mundaú. 126p. Dissertação (Mestrado). Recife. Universidade Federal de Pernambuco; 2013.\n",
    "<br />\n",
    "<br />\n",
    "Silva\t, J.B.L. Modelos de previsão de enchente em tempo real para o município de Nova Era – MG. Pós-Graduação em Engenharia Agrícola da Universidade Federal de Viçosa, 113 p., Minas Gerais; 2006.\n",
    "<br />\n",
    "<br />\n",
    "Solomon, S. I., Basso, E., Osorio, C., De Moraes, H. M., Serrano, A. Flood forecasting for Tucurui hydroelectrical plant, Brazil. Water Resources Bulletin, v. 22, n. 2, p. 209-217; 1986.\n",
    "<br />\n",
    "<br />\n",
    "Ryzhkov, A. V.; Giangrande, S. E.; Schuur, T. J. Rainfall Estimation with a polarimetric prototype of WSR-88D. Journal Applied Meteorology, v. 44, p. 502-515, 2005. http://dx.doi.org/10.1175/JAM2213.1\n",
    "<br />\n",
    "<br />\n",
    "Seed, A. W.; Nicol, J.; Austin, G. L.; Stow, C. D.; Bradley, S. G. The impact of radar and raingage sampling errors when calibration a weather radar. Meteorological Applications, v. 3, p. 43-52, 1996. \n",
    "<br />\n",
    "<br />\n",
    "Tenório, R. S.; Moraes, C. S.; Kwon, B. H.; RAINDROP DISTRIBUTION IN THE EASTERN COAST OF NORTHEASTERN BRAZIL USING DISDROMETER DATA. Revista Brasileira de Meteorologia. 2010.\n",
    "<br />\n",
    "<br />\n",
    "Tenório, R. S.; Moraes, M. C. S.; Sauvageot, H. Raindrop Size Distribution and Radar Parameters in Coastal Tropical Rain Systems of Northeastern Brazil. Journal of Applied Meteorology and Climatology, 2012.\n",
    "<br />\n",
    "<br />\n",
    "Zawadski, I. I. On radar-raingage comparison. Journal of Applied Meteorology and Climatology, v. 14, p. 1430-1436, 1975.\n",
    "<br />\n",
    "<br />\n",
    "</div>"
   ]
  },
  {
   "cell_type": "code",
   "execution_count": null,
   "metadata": {},
   "outputs": [],
   "source": []
  }
 ],
 "metadata": {
  "kernelspec": {
   "display_name": "Python 3",
   "language": "python",
   "name": "python3"
  },
  "language_info": {
   "codemirror_mode": {
    "name": "ipython",
    "version": 3
   },
   "file_extension": ".py",
   "mimetype": "text/x-python",
   "name": "python",
   "nbconvert_exporter": "python",
   "pygments_lexer": "ipython3",
   "version": "3.5.2"
  }
 },
 "nbformat": 4,
 "nbformat_minor": 2
}
